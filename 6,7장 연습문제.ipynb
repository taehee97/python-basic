{
 "cells": [
  {
   "cell_type": "markdown",
   "metadata": {},
   "source": [
    "# 6장 튜플과 딕셔너리"
   ]
  },
  {
   "cell_type": "code",
   "execution_count": 1,
   "metadata": {},
   "outputs": [
    {
     "name": "stdout",
     "output_type": "stream",
     "text": [
      "{'kim99': 12000, 'lee66': 11000, 'han55': 3000, 'hong77': 5000, 'hwang33': 18000}\n"
     ]
    }
   ],
   "source": [
    "\n",
    "mileage={'kim99':12000,'lee66':11000,'han55':3000,'hong77':5000,'hwang33':18000}\n",
    "print(mileage)"
   ]
  },
  {
   "cell_type": "code",
   "execution_count": 29,
   "metadata": {},
   "outputs": [
    {
     "name": "stdout",
     "output_type": "stream",
     "text": [
      "1.아이디:kim99,마일리지:12000점\n",
      "2.아이디:lee66,마일리지:11000점\n",
      "3.아이디:han55,마일리지:3000점\n",
      "4.아이디:hong77,마일리지:5000점\n",
      "5.아이디:hwang33,마일리지:18000점\n"
     ]
    }
   ],
   "source": [
    "#1\n",
    "sum=0\n",
    "for key in mileage:\n",
    "    sum += 1\n",
    "    print('{}.아이디:{},마일리지:{}점'.format(sum,key,mileage[key]))"
   ]
  },
  {
   "cell_type": "code",
   "execution_count": 68,
   "metadata": {},
   "outputs": [
    {
     "name": "stdout",
     "output_type": "stream",
     "text": [
      "전체 딕셔너리 :  {'kim99': 12000, 'lee66': 11000, 'han55': 3000, 'hong77': 5000, 'hwang33': 18000, 'jang88': 7000}\n",
      "jang88님의 마일리지(7000점)가 추가 되었습니다.\n"
     ]
    }
   ],
   "source": [
    "#3\n",
    "\n",
    "mileage['jang88'] = 7000\n",
    "\n",
    "print('전체 딕셔너리 : ', mileage)\n",
    "\n",
    "print('jang88님의 마일리지(%d점)가 추가 되었습니다.' % (mileage['jang88']))"
   ]
  },
  {
   "cell_type": "code",
   "execution_count": null,
   "metadata": {},
   "outputs": [],
   "source": [
    "temp = {'mon':25.5, 'tue':28.3, 'wed':33.2, 'thur':32.1, 'fri':17.3,'sat':35.3, 'sun':33.3}\n",
    "print(temp)\n"
   ]
  },
  {
   "cell_type": "code",
   "execution_count": 130,
   "metadata": {},
   "outputs": [
    {
     "name": "stdout",
     "output_type": "stream",
     "text": [
      "--------------------------------------------------\n",
      "  mon  tue   wed   thur   fri   sat   sun\n",
      "--------------------------------------------------\n",
      " 25.5  28.3  33.2  32.1  17.3  35.3  33.3 \n",
      " -------------------------------------------------\n"
     ]
    }
   ],
   "source": [
    "#5\n",
    "temp = {'mon':25.5, 'tue':28.3, 'wed':33.2, 'thur':32.1, 'fri':17.3,'sat':35.3, 'sun':33.3}\n",
    "\n",
    "print('-'*50)\n",
    "print('  mon  tue   wed   thur   fri   sat   sun')\n",
    "print('-'*50)\n",
    "\n",
    "for key in temp.values():\n",
    "    print('',key, end=' ')\n",
    "\n",
    "print('\\n','-'*49)"
   ]
  },
  {
   "cell_type": "code",
   "execution_count": 12,
   "metadata": {},
   "outputs": [
    {
     "name": "stdout",
     "output_type": "stream",
     "text": [
      "기온이 30˚이상인 요일:wedthursatsun"
     ]
    }
   ],
   "source": [
    "#7\n",
    "\n",
    "max=[]\n",
    "for key,values in temp.items():\n",
    "    if values > 30:\n",
    "        max.append(key)\n",
    "        \n",
    "print('기온이 30˚이상인 요일:', end='')\n",
    "for x in max:\n",
    "    print(x, end='')"
   ]
  },
  {
   "cell_type": "markdown",
   "metadata": {},
   "source": [
    "# 7장 함수"
   ]
  },
  {
   "cell_type": "code",
   "execution_count": 145,
   "metadata": {},
   "outputs": [
    {
     "name": "stdout",
     "output_type": "stream",
     "text": [
      "20,10\n"
     ]
    }
   ],
   "source": [
    "#1\n",
    "def f1(a):\n",
    "    a+=10\n",
    "    print(a,end=',')\n",
    "a=10\n",
    "f1(a)\n",
    "print(a)\n",
    "\n",
    "#답 : 나"
   ]
  },
  {
   "cell_type": "code",
   "execution_count": 50,
   "metadata": {},
   "outputs": [
    {
     "name": "stdout",
     "output_type": "stream",
     "text": [
      "n값을 입력해 주세요: 20\n",
      "2~ 20까지의 정수 중 소수 : 2 3 5 7 11 13 17 19 "
     ]
    }
   ],
   "source": [
    "#3\n",
    "\n",
    "def sosu(n):\n",
    "    print('2~ %d까지의 정수 중 소수 : ' %n, end='')\n",
    "    for i in range(2, n+1):\n",
    "        check =0\n",
    "        for j in range(2,i):\n",
    "            if i % j == 0:\n",
    "                check =1\n",
    "                break\n",
    "        if check ==0:\n",
    "            print(i,end=' ')\n",
    "num = int(input('n값을 입력해 주세요: '))\n",
    "sosu(num)\n",
    "\n"
   ]
  },
  {
   "cell_type": "code",
   "execution_count": 147,
   "metadata": {},
   "outputs": [
    {
     "name": "stdout",
     "output_type": "stream",
     "text": [
      "[1, 4, 9, 16, 25]\n"
     ]
    }
   ],
   "source": [
    "#5\n",
    "\n",
    "def numSquare(num):\n",
    "    list_new =[]\n",
    "    for i in range(1, num+1):\n",
    "        list_new.append(i**2)\n",
    "        \n",
    "    return list_new\n",
    "\n",
    "n=5\n",
    "result = numSquare(n)\n",
    "print(result)"
   ]
  },
  {
   "cell_type": "code",
   "execution_count": null,
   "metadata": {},
   "outputs": [
    {
     "name": "stdout",
     "output_type": "stream",
     "text": [
      "※ 비밀번호는 10자리 이상, 영문 대문자를 포함하여야 합니다.\n"
     ]
    }
   ],
   "source": [
    "#7\n",
    "print('※ 비밀번호는 10자리 이상, 영문 대문자를 포함하여야 합니다.')\n",
    "\n",
    "while True:\n",
    "    password = input('비밀번호 : ')\n",
    "    same = input('비밀번호 확인 : ')\n",
    "    \n",
    "    if len(password) < 10 or password.isupper() == False:\n",
    "        print('비밀번호가 잘못되었습니다! 다시 입력해 주세요')\n",
    "    elif len(password) >= 10 and password.isupper() == True and password != same:\n",
    "        print('비밀번호와 비밀번호 확인이 서로 다릅니다! 다시 입력해 주세요!')\n",
    "    else:\n",
    "        print('유효한 비밀번호입니다~~~')\n",
    "        break\n",
    "        \n"
   ]
  }
 ],
 "metadata": {
  "kernelspec": {
   "display_name": "Python 3",
   "language": "python",
   "name": "python3"
  },
  "language_info": {
   "codemirror_mode": {
    "name": "ipython",
    "version": 3
   },
   "file_extension": ".py",
   "mimetype": "text/x-python",
   "name": "python",
   "nbconvert_exporter": "python",
   "pygments_lexer": "ipython3",
   "version": "3.7.6"
  }
 },
 "nbformat": 4,
 "nbformat_minor": 4
}
