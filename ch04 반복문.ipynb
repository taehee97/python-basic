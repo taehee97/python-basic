{
 "cells": [
  {
   "cell_type": "markdown",
   "metadata": {},
   "source": [
    "# chapter 04. 반복문"
   ]
  },
  {
   "cell_type": "code",
   "execution_count": 5,
   "metadata": {},
   "outputs": [
    {
     "name": "stdout",
     "output_type": "stream",
     "text": [
      "안녕하세요. 0\n",
      "안녕하세요. 1\n",
      "안녕하세요. 2\n",
      "안녕하세요. 3\n",
      "안녕하세요. 4\n",
      "ㅎㅇ\n",
      "ㅎㅇ\n",
      "ㅎㅇ\n",
      "ㅎㅇ\n",
      "ㅎㅇ\n",
      "5\n",
      "5\n",
      "5\n",
      "5\n",
      "5\n"
     ]
    }
   ],
   "source": [
    "#ex 4-1 >for\n",
    "for x in range(5):\n",
    "    print('안녕하세요.', x)\n",
    "    \n",
    "for x in range(5):\n",
    "    print('ㅎㅇ')\n",
    "\n",
    "for x in range(5):\n",
    "    print(5)"
   ]
  },
  {
   "cell_type": "code",
   "execution_count": 8,
   "metadata": {},
   "outputs": [
    {
     "name": "stdout",
     "output_type": "stream",
     "text": [
      "안녕하세요. 0\n",
      "안녕하세요. 1\n",
      "안녕하세요. 2\n",
      "안녕하세요. 3\n",
      "안녕하세요. 4\n",
      "안녕하세요. 2\n",
      "안녕하세요. 3\n",
      "안녕하세요. 4\n"
     ]
    }
   ],
   "source": [
    "#ex 4-2 >while\n",
    "x=0                              # x값 초기화\n",
    "while x<5:                       # 조건삽입\n",
    "    print('안녕하세요.',x)\n",
    "    x+=1\n",
    "\n",
    "x=2\n",
    "while x<5:\n",
    "    print('안녕하세요.',x)\n",
    "    x+=1"
   ]
  },
  {
   "cell_type": "code",
   "execution_count": 15,
   "metadata": {},
   "outputs": [
    {
     "name": "stdout",
     "output_type": "stream",
     "text": [
      "5432113579111315171921232527293133353739414345474951535557596163656769717375777981838587899193959799201612840-4-8-12-16-20-16-12-8-40481216"
     ]
    }
   ],
   "source": [
    "#ex 4-2 > 합계 for문 #range(초기값, 끝나는 값, 증가분) -> range(1,11) \n",
    "\n",
    "for i in range(5,0,-1):\n",
    "    print(i, end='')\n",
    "\n",
    "#1-100까지 홀수\n",
    "for i in range(1,100,2):      #1에서 99까지 2씩 증가하는 i\n",
    "    print(i, end='')\n",
    "\n",
    "for i in range(20,-20,-4):    \n",
    "    print(i, end='')\n",
    "    \n",
    "for i in range(-20,20,4):    \n",
    "    print(i, end='')"
   ]
  },
  {
   "cell_type": "code",
   "execution_count": 9,
   "metadata": {},
   "outputs": [
    {
     "name": "stdout",
     "output_type": "stream",
     "text": [
      "50005000\n"
     ]
    }
   ],
   "source": [
    "#ex 4-3 \n",
    "sum = 0                      #***sum을 명시적으로 초기화해줘야함!!!***\n",
    "for i in range(1,10001):\n",
    "    sum +=i\n",
    "print(sum)\n",
    "\n",
    "#string의 초기화 => s=''\n",
    "#list의 초기화 => l = []\n",
    "\n"
   ]
  },
  {
   "cell_type": "code",
   "execution_count": 17,
   "metadata": {},
   "outputs": [
    {
     "name": "stdout",
     "output_type": "stream",
     "text": [
      "0 1 2 3 4 5 6 7 8 9 \n",
      "1 2 3 4 5 6 7 8 9 10 \n",
      "13579\n",
      "201816141210864220\n",
      "18\n",
      "16\n",
      "14\n",
      "12\n",
      "10\n",
      "8\n",
      "6\n",
      "4\n",
      "2\n"
     ]
    }
   ],
   "source": [
    "#ex 4-4\n",
    "\n",
    "for i in range(10):     #end의 유무: 일렬나열하냐 마냐\n",
    "    print(i, end=' ')\n",
    "print()\n",
    "\n",
    "for i in range(1,11):   #=''와 =' '의 차이 : 결과값 띄어쓰기 하냐마냐\n",
    "    print(i,end=' ')\n",
    "print()\n",
    "\n",
    "for i in range(1,10,2):\n",
    "    print(i, end='')\n",
    "print()\n",
    "\n",
    "for i in range(20,0,-2):\n",
    "    print(i, end='')\n",
    "    \n",
    "for i in range(20,0,-2):\n",
    "    print(i)"
   ]
  },
  {
   "cell_type": "code",
   "execution_count": 7,
   "metadata": {},
   "outputs": [
    {
     "name": "stdout",
     "output_type": "stream",
     "text": [
      "3 6 9 12 15 18 21 24 27 30 33 36 39 42 45 48 51 54 57 60 63 66 69 72 75 78 81 84 87 90 93 96 99 \n",
      " --------------------------------------------------\n",
      "1~100에서의 3의 배수의 합계 : 33\n"
     ]
    }
   ],
   "source": [
    "#ex 4-5\n",
    "sum =0\n",
    "for i in range(1,101):\n",
    "    if i%3 ==0:\n",
    "        print('%d'% i, end =' ')\n",
    "        sum +=1\n",
    "\n",
    "print('\\n','-'*50)                              #Q. '-'*50의 의미는? : '-' 50번입력\n",
    "print('1~100에서의 3의 배수의 합계 : %d' %sum)\n"
   ]
  },
  {
   "cell_type": "code",
   "execution_count": 8,
   "metadata": {},
   "outputs": [
    {
     "name": "stdout",
     "output_type": "stream",
     "text": [
      "영어 문장을 입력하세요>I love you\n",
      "I\n",
      " \n",
      "l\n",
      "o\n",
      "v\n",
      "e\n",
      " \n",
      "y\n",
      "o\n",
      "u\n"
     ]
    }
   ],
   "source": [
    "#ex 4-6 문자열 세로 출력법\n",
    "word = input('영어 문장을 입력하세요>')\n",
    "\n",
    "for c in word:\n",
    "    print(c)\n"
   ]
  },
  {
   "cell_type": "code",
   "execution_count": 1,
   "metadata": {},
   "outputs": [
    {
     "name": "stdout",
     "output_type": "stream",
     "text": [
      "------------------------------\n",
      " 섭씨 화씨\n",
      "------------------------------\n",
      "     -20   -4.0\n",
      "     -15    5.0\n",
      "     -10   14.0\n",
      "      -5   23.0\n",
      "       0   32.0\n",
      "       5   41.0\n",
      "      10   50.0\n",
      "      15   59.0\n",
      "      20   68.0\n",
      "      25   77.0\n",
      "      30   86.0\n",
      "------------------------------\n"
     ]
    }
   ],
   "source": [
    "#ex 4-7\n",
    "print('-'*30)\n",
    "print(' 섭씨 화씨')\n",
    "print('-'*30)\n",
    "\n",
    "for c in range(-20,31,5):\n",
    "    f=c*9.0/5.0+32.0\n",
    "    print('%8d %6.1f'%(c,f))#Q. 왜 d앞에 8이 붙고, f앞에 6.1이 붙는가? 숫자의 의미는?\n",
    "    \n",
    "print('-'*30)\n"
   ]
  },
  {
   "cell_type": "code",
   "execution_count": 15,
   "metadata": {},
   "outputs": [
    {
     "name": "stdout",
     "output_type": "stream",
     "text": [
      "--------------------------------------------------\n",
      "2 x 1 = 2\n",
      "2 x 2 = 4\n",
      "2 x 3 = 6\n",
      "2 x 4 = 8\n",
      "2 x 5 =10\n",
      "2 x 6 =12\n",
      "2 x 7 =14\n",
      "2 x 8 =16\n",
      "2 x 9 =18\n",
      "--------------------------------------------------\n",
      "--------------------------------------------------\n",
      "3 x 1 = 3\n",
      "3 x 2 = 6\n",
      "3 x 3 = 9\n",
      "3 x 4 =12\n",
      "3 x 5 =15\n",
      "3 x 6 =18\n",
      "3 x 7 =21\n",
      "3 x 8 =24\n",
      "3 x 9 =27\n",
      "--------------------------------------------------\n",
      "--------------------------------------------------\n",
      "4 x 1 = 4\n",
      "4 x 2 = 8\n",
      "4 x 3 =12\n",
      "4 x 4 =16\n",
      "4 x 5 =20\n",
      "4 x 6 =24\n",
      "4 x 7 =28\n",
      "4 x 8 =32\n",
      "4 x 9 =36\n",
      "--------------------------------------------------\n",
      "--------------------------------------------------\n",
      "5 x 1 = 5\n",
      "5 x 2 =10\n",
      "5 x 3 =15\n",
      "5 x 4 =20\n",
      "5 x 5 =25\n",
      "5 x 6 =30\n",
      "5 x 7 =35\n",
      "5 x 8 =40\n",
      "5 x 9 =45\n",
      "--------------------------------------------------\n",
      "--------------------------------------------------\n",
      "6 x 1 = 6\n",
      "6 x 2 =12\n",
      "6 x 3 =18\n",
      "6 x 4 =24\n",
      "6 x 5 =30\n",
      "6 x 6 =36\n",
      "6 x 7 =42\n",
      "6 x 8 =48\n",
      "6 x 9 =54\n",
      "--------------------------------------------------\n",
      "--------------------------------------------------\n",
      "7 x 1 = 7\n",
      "7 x 2 =14\n",
      "7 x 3 =21\n",
      "7 x 4 =28\n",
      "7 x 5 =35\n",
      "7 x 6 =42\n",
      "7 x 7 =49\n",
      "7 x 8 =56\n",
      "7 x 9 =63\n",
      "--------------------------------------------------\n",
      "--------------------------------------------------\n",
      "8 x 1 = 8\n",
      "8 x 2 =16\n",
      "8 x 3 =24\n",
      "8 x 4 =32\n",
      "8 x 5 =40\n",
      "8 x 6 =48\n",
      "8 x 7 =56\n",
      "8 x 8 =64\n",
      "8 x 9 =72\n",
      "--------------------------------------------------\n",
      "--------------------------------------------------\n",
      "9 x 1 = 9\n",
      "9 x 2 =18\n",
      "9 x 3 =27\n",
      "9 x 4 =36\n",
      "9 x 5 =45\n",
      "9 x 6 =54\n",
      "9 x 7 =63\n",
      "9 x 8 =72\n",
      "9 x 9 =81\n",
      "--------------------------------------------------\n"
     ]
    }
   ],
   "source": [
    "#ex 4-9 Nested for loop 중첩 반복\n",
    "\n",
    "for i in range(2,10):\n",
    "    print('-'*50)  #-----------------------------------------------------(50번입력)\n",
    "    for k in range(1,10):\n",
    "        print('%d x %d =%2d' % (i,k,i*k))   #2d 의미 무엇? 왜 2붙음?\n",
    "    print('-'*50)  #-----------------------------------------------------(50번입력)\n",
    " "
   ]
  },
  {
   "cell_type": "code",
   "execution_count": 28,
   "metadata": {},
   "outputs": [
    {
     "ename": "SyntaxError",
     "evalue": "invalid syntax (<ipython-input-28-a9b3cbfec504>, line 19)",
     "output_type": "error",
     "traceback": [
      "\u001b[1;36m  File \u001b[1;32m\"<ipython-input-28-a9b3cbfec504>\"\u001b[1;36m, line \u001b[1;32m19\u001b[0m\n\u001b[1;33m    a=for i in range(1,6):\u001b[0m\n\u001b[1;37m        ^\u001b[0m\n\u001b[1;31mSyntaxError\u001b[0m\u001b[1;31m:\u001b[0m invalid syntax\n"
     ]
    }
   ],
   "source": [
    "#ex 4-9 별표(*)로 특정 형태 만들기 1\n",
    "\n",
    "for i in range(1,6):\n",
    "    print('*'*i)\n",
    "print('-'*50)\n",
    "\n",
    "for i in range(1,6):\n",
    "    for k in range(1, i+1):\n",
    "        print('*', end='')\n",
    "    print()\n",
    "print('-'*50)\n",
    "\n",
    "for i in range(1,6):\n",
    "    for k in range(1, i+1):\n",
    "        print('*', end='')\n",
    "    print()\n",
    "print('-'*50)\n",
    "\n",
    "a=for i in range(1,6):\n",
    "    for s in range(5,i, -1):\n",
    "        print(' ', end='')\n",
    "    for k in range(1, i+1):\n",
    "        print('*', end='')\n",
    "    print()\n",
    "print(a)"
   ]
  },
  {
   "cell_type": "code",
   "execution_count": 17,
   "metadata": {},
   "outputs": [
    {
     "name": "stdout",
     "output_type": "stream",
     "text": [
      "989 46\n"
     ]
    }
   ],
   "source": [
    "# 합이 1000에 가장 가까운 경우는 1에서부터 얼마까지 더한 경우인가? #break문\n",
    "    #정답은 사진찍어놓음 참고\n",
    "    \n",
    "sum=0\n",
    "count =1\n",
    "\n",
    "while sum< 1000:\n",
    "    sum += count \n",
    "    count += 1\n",
    "\n",
    "print(sum-count,count)\n"
   ]
  },
  {
   "cell_type": "code",
   "execution_count": 7,
   "metadata": {},
   "outputs": [
    {
     "ename": "SyntaxError",
     "evalue": "invalid syntax (<ipython-input-7-5f84baf821c3>, line 5)",
     "output_type": "error",
     "traceback": [
      "\u001b[1;36m  File \u001b[1;32m\"<ipython-input-7-5f84baf821c3>\"\u001b[1;36m, line \u001b[1;32m5\u001b[0m\n\u001b[1;33m    if k = i:\u001b[0m\n\u001b[1;37m         ^\u001b[0m\n\u001b[1;31mSyntaxError\u001b[0m\u001b[1;31m:\u001b[0m invalid syntax\n"
     ]
    }
   ],
   "source": [
    "# 중첩에서 break\n",
    "for i in range(1,6):\n",
    "    print('i =', i, ':', end =' ')\n",
    "    for k in range(5):\n",
    "        if k = i:\n",
    "            break;\n",
    "        print(k, end=' ')\n",
    "    print()        #print()공간 비워놓는 이유는?"
   ]
  },
  {
   "cell_type": "code",
   "execution_count": null,
   "metadata": {},
   "outputs": [],
   "source": []
  },
  {
   "cell_type": "code",
   "execution_count": null,
   "metadata": {},
   "outputs": [],
   "source": []
  },
  {
   "cell_type": "code",
   "execution_count": null,
   "metadata": {},
   "outputs": [],
   "source": []
  },
  {
   "cell_type": "code",
   "execution_count": null,
   "metadata": {},
   "outputs": [],
   "source": []
  },
  {
   "cell_type": "code",
   "execution_count": null,
   "metadata": {},
   "outputs": [],
   "source": []
  },
  {
   "cell_type": "code",
   "execution_count": null,
   "metadata": {},
   "outputs": [],
   "source": [
    "#ex 4-1"
   ]
  }
 ],
 "metadata": {
  "kernelspec": {
   "display_name": "Python 3",
   "language": "python",
   "name": "python3"
  },
  "language_info": {
   "codemirror_mode": {
    "name": "ipython",
    "version": 3
   },
   "file_extension": ".py",
   "mimetype": "text/x-python",
   "name": "python",
   "nbconvert_exporter": "python",
   "pygments_lexer": "ipython3",
   "version": "3.7.6"
  }
 },
 "nbformat": 4,
 "nbformat_minor": 4
}
