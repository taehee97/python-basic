{
 "cells": [
  {
   "cell_type": "code",
   "execution_count": null,
   "metadata": {},
   "outputs": [],
   "source": []
  },
  {
   "cell_type": "code",
   "execution_count": 27,
   "metadata": {},
   "outputs": [
    {
     "name": "stdout",
     "output_type": "stream",
     "text": [
      "1번째 학생의 합계 : 260, 평균 : 86.67\n",
      "2번째 학생의 합계 : 258, 평균 : 86.00\n",
      "3번째 학생의 합계 : 254, 평균 : 84.67\n",
      "4번째 학생의 합계 : 254, 평균 : 84.67\n",
      "5번째 학생의 합계 : 257, 평균 : 85.67\n",
      "6번째 학생의 합계 : 236, 평균 : 78.67\n",
      "7번째 학생의 합계 : 248, 평균 : 82.67\n",
      "8번째 학생의 합계 : 258, 평균 : 86.00\n"
     ]
    }
   ],
   "source": [
    "#5-8\n",
    "scores = [[96,84,80],[96,86,76], [76,95,83], [89,96,69]\\\n",
    "          ,[90,76,91],[82,66,88],[83,86,79],[85,90,83]]\n",
    "for i in range(len(scores)):\n",
    "    sum=0\n",
    "    for k in range(len(scores[i])):\n",
    "        sum = sum + scores[i][k]\n",
    "    \n",
    "    avg = sum/len(scores[i])\n",
    "    \n",
    "    print('%d번째 학생의 합계 : %d, 평균 : %.2f' % (i+1, sum, avg))"
   ]
  },
  {
   "cell_type": "code",
   "execution_count": 1,
   "metadata": {},
   "outputs": [
    {
     "name": "stdout",
     "output_type": "stream",
     "text": [
      "성적을 입력하세요(종료 시 -1 입력):75\n",
      "성적을 입력하세요(종료 시 -1 입력):83\n",
      "성적을 입력하세요(종료 시 -1 입력):88\n",
      "성적을 입력하세요(종료 시 -1 입력):93\n",
      "성적을 입력하세요(종료 시 -1 입력):97\n",
      "성적을 입력하세요(종료 시 -1 입력):-1\n",
      "합계:436, 평균:87.20\n"
     ]
    }
   ],
   "source": [
    "#5-9\n",
    "scores = []\n",
    "\n",
    "while True:\n",
    "    score = int(input('성적을 입력하세요(종료 시 -1 입력):'))\n",
    "    \n",
    "    if score == -1:\n",
    "        break\n",
    "    else:\n",
    "        scores.append(score)\n",
    "        \n",
    "sum = 0\n",
    "for i in range(0,len(scores)):\n",
    "    sum+=scores[i]\n",
    "avg = sum/len(scores)\n",
    "\n",
    "print('합계:%d, 평균:%.2f'% (sum,avg))"
   ]
  },
  {
   "cell_type": "code",
   "execution_count": null,
   "metadata": {},
   "outputs": [],
   "source": [
    "seats = [[0,0,0,0,0,0,0,0,0,0],\\\n",
    "         [0,0,0,0,0,0,0,0,0,0],\\\n",
    "         [0,0,0,0,0,0,0,0,1,0],\\\n",
    "         [0,0,0,0,0,1,0,0,0,0],\\\n",
    "         [0,1,0,0,0,1,0,1,0,0],\\\n",
    "         [0,0,0,0,0,0,1,0,0,0],\\\n",
    "         [1,0,1,0,0,0,0,0,0,1]]"
   ]
  },
  {
   "cell_type": "code",
   "execution_count": 8,
   "metadata": {},
   "outputs": [],
   "source": [
    "for i in range(6,0,1):\n",
    "    for i in range(0,6,i+1):\n",
    "        print(i, end='')\n",
    "    print()\n",
    "    \n",
    "    "
   ]
  },
  {
   "cell_type": "code",
   "execution_count": null,
   "metadata": {},
   "outputs": [],
   "source": []
  },
  {
   "cell_type": "code",
   "execution_count": null,
   "metadata": {},
   "outputs": [],
   "source": []
  },
  {
   "cell_type": "code",
   "execution_count": null,
   "metadata": {},
   "outputs": [],
   "source": []
  },
  {
   "cell_type": "code",
   "execution_count": null,
   "metadata": {},
   "outputs": [],
   "source": []
  },
  {
   "cell_type": "code",
   "execution_count": null,
   "metadata": {},
   "outputs": [],
   "source": []
  },
  {
   "cell_type": "code",
   "execution_count": null,
   "metadata": {},
   "outputs": [],
   "source": []
  },
  {
   "cell_type": "code",
   "execution_count": null,
   "metadata": {},
   "outputs": [],
   "source": []
  },
  {
   "cell_type": "code",
   "execution_count": null,
   "metadata": {},
   "outputs": [],
   "source": []
  },
  {
   "cell_type": "code",
   "execution_count": null,
   "metadata": {},
   "outputs": [],
   "source": []
  },
  {
   "cell_type": "code",
   "execution_count": null,
   "metadata": {},
   "outputs": [],
   "source": []
  },
  {
   "cell_type": "code",
   "execution_count": 5,
   "metadata": {},
   "outputs": [
    {
     "name": "stdout",
     "output_type": "stream",
     "text": [
      "       *\n",
      "      *\n",
      "     *\n",
      "    *\n",
      "   *\n"
     ]
    }
   ],
   "source": [
    "#다이아몬드\n",
    "for i in range(6,1,-1):\n",
    "    print(' '*i,'*')\n"
   ]
  },
  {
   "cell_type": "code",
   "execution_count": 17,
   "metadata": {},
   "outputs": [
    {
     "name": "stdout",
     "output_type": "stream",
     "text": [
      "    *\n",
      "   **\n",
      "  ***\n",
      " ****\n",
      "*****\n"
     ]
    }
   ],
   "source": [
    "for i in range(1,6):\n",
    "    for s in range(5,i,-1):\n",
    "        print(' ', end='')\n",
    "    for k in range(1, i+1):\n",
    "        print('*',end='')\n",
    "    print()\n",
    "    "
   ]
  },
  {
   "cell_type": "code",
   "execution_count": 23,
   "metadata": {},
   "outputs": [
    {
     "name": "stdout",
     "output_type": "stream",
     "text": [
      "*\n",
      "**\n",
      "***\n",
      "****\n",
      "*****\n",
      "******\n",
      "*******\n",
      "********\n"
     ]
    }
   ],
   "source": [
    "for i in range(1,9):\n",
    "    for s in range(-4,i, -1):\n",
    "            print(' ', end='')\n",
    "    for k in range(1, i+1):\n",
    "        print('*', end='')\n",
    "        \n",
    "    print()"
   ]
  },
  {
   "cell_type": "code",
   "execution_count": 26,
   "metadata": {},
   "outputs": [
    {
     "name": "stdout",
     "output_type": "stream",
     "text": [
      "*\n",
      "**\n",
      "***\n",
      "****\n",
      "*****\n",
      "******\n",
      "*******\n",
      "********\n"
     ]
    }
   ],
   "source": [
    "for i in range(1,9):\n",
    "    for k in range(1, i+1):\n",
    "        print('*', end='')\n",
    "        \n",
    "    print()\n",
    "    "
   ]
  }
 ],
 "metadata": {
  "kernelspec": {
   "display_name": "Python 3",
   "language": "python",
   "name": "python3"
  },
  "language_info": {
   "codemirror_mode": {
    "name": "ipython",
    "version": 3
   },
   "file_extension": ".py",
   "mimetype": "text/x-python",
   "name": "python",
   "nbconvert_exporter": "python",
   "pygments_lexer": "ipython3",
   "version": "3.7.6"
  }
 },
 "nbformat": 4,
 "nbformat_minor": 4
}
