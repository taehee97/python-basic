{
 "cells": [
  {
   "cell_type": "markdown",
   "metadata": {},
   "source": [
    "## 4장 연습문제"
   ]
  },
  {
   "cell_type": "code",
   "execution_count": 4,
   "metadata": {},
   "outputs": [
    {
     "name": "stdout",
     "output_type": "stream",
     "text": [
      "**********\n",
      "**********\n",
      "**********\n",
      "**********\n",
      "**********\n"
     ]
    }
   ],
   "source": [
    "#4-1 \n",
    "for i in range(5):\n",
    "    for a in range(10):\n",
    "        print('*', end='')\n",
    "    print()"
   ]
  },
  {
   "cell_type": "code",
   "execution_count": 4,
   "metadata": {},
   "outputs": [
    {
     "name": "stdout",
     "output_type": "stream",
     "text": [
      "**********\n",
      "**********\n",
      "**********\n",
      "**********\n",
      "**********\n"
     ]
    }
   ],
   "source": [
    "#4-2\n",
    "i=1\n",
    "\n",
    "while i<=5:\n",
    "    print('*'*10)\n",
    "    i+=1\n",
    "  "
   ]
  },
  {
   "cell_type": "code",
   "execution_count": 31,
   "metadata": {},
   "outputs": [
    {
     "name": "stdout",
     "output_type": "stream",
     "text": [
      "666666\n",
      "55555\n",
      "4444\n",
      "333\n",
      "22\n",
      "1\n"
     ]
    }
   ],
   "source": [
    "#4-3\n",
    "for i in range(6,0,-1):\n",
    "    for j in range(1,i+1):\n",
    "        print(i, end='')\n",
    "    print()"
   ]
  },
  {
   "cell_type": "code",
   "execution_count": 32,
   "metadata": {},
   "outputs": [
    {
     "name": "stdout",
     "output_type": "stream",
     "text": [
      "0\n",
      "01\n",
      "012\n",
      "0123\n",
      "01234\n",
      "012345\n"
     ]
    }
   ],
   "source": [
    "#4-4\n",
    "for i in range(0,6):\n",
    "    for j in range(0,i+1):\n",
    "        print(j, end='')\n",
    "    print()\n",
    "    "
   ]
  },
  {
   "cell_type": "code",
   "execution_count": 29,
   "metadata": {},
   "outputs": [
    {
     "name": "stdout",
     "output_type": "stream",
     "text": [
      "********\n",
      "*      *\n",
      "*      *\n",
      "*      *\n",
      "*      *\n",
      "*      *\n",
      "*      *\n",
      "********\n"
     ]
    }
   ],
   "source": [
    "#4-5\n",
    "for i in range(0,8):\n",
    "    if( i==0 or i==7):\n",
    "        print('*'*8)\n",
    "    else:\n",
    "        print('*', end='')\n",
    "        print(' '*6, end='')\n",
    "        print(\"*\")\n",
    "\n",
    "        "
   ]
  },
  {
   "cell_type": "code",
   "execution_count": 48,
   "metadata": {},
   "outputs": [
    {
     "name": "stdout",
     "output_type": "stream",
     "text": [
      "1 + 3 + 5 + 7 + 9 + 11 + 13 + 15 + 17 + 19 + 21 + 23 + 25 + 27 + 29 + 31 + 33 + 35 + 37 + 39 + 41 + 43 + 45 + 47 + 49 + 51 + 53 + 55 + 57 + 59 + 61 + 63 + 65 + 67 + 69 + 71 + 73 + 75 + 77 + 79 + 81 + 83 + 85 + 87 + 89 + 91 + 93 + 95 + 97 + 99 = 5050\n"
     ]
    }
   ],
   "source": [
    "def sum_for_loop(n):\n",
    "    ret = 0\n",
    "    for n in range(1,n+1):\n",
    "        ret += n\n",
    "    return ret\n",
    "\n",
    "for n in range(1,101):\n",
    "    if n%2 == 1 and n!=1:\n",
    "        print('+',n,'',end ='')\n",
    "    elif n==1:\n",
    "        print(n,'',end='')\n",
    "\n",
    "        \n",
    "print('=',sum_for_loop(100))"
   ]
  },
  {
   "cell_type": "code",
   "execution_count": 43,
   "metadata": {},
   "outputs": [
    {
     "name": "stdout",
     "output_type": "stream",
     "text": [
      "N값을 입력해주세요.200\n",
      "2 3 5 7 11 13 17 19 23 29 31 37 41 43 47 53 59 61 67 71 73 79 83 89 97 101 103 107 109 113 127 131 137 139 149 151 157 163 167 173 179 181 191 193 197 199 "
     ]
    }
   ],
   "source": [
    "#4-8\n",
    "n=int(input('N값을 입력해주세요.'))\n",
    "\n",
    "for i in range(2,n+1):\n",
    "    for k in range(2,i+1):\n",
    "        if i==k\n",
    "            print(i, end=' ')\n",
    "        elif i%k==0:\n",
    "            break\n",
    "            "
   ]
  },
  {
   "cell_type": "code",
   "execution_count": 72,
   "metadata": {},
   "outputs": [
    {
     "name": "stdout",
     "output_type": "stream",
     "text": [
      "--------------------------------------------------\n",
      "  달러($)          원화(원)          유로(€)\n",
      "--------------------------------------------------\n",
      "     10 \t    10800 \t     8.1\n",
      "     20 \t    21600 \t    16.2\n",
      "     30 \t    32400 \t    24.3\n",
      "     40 \t    43200 \t    32.4\n",
      "     50 \t    54000 \t    40.5\n",
      "     60 \t    64800 \t    48.6\n",
      "     70 \t    75600 \t    56.7\n",
      "     80 \t    86400 \t    64.8\n",
      "     90 \t    97200 \t    72.9\n",
      "    100 \t   108000 \t    81.0\n",
      "--------------------------------------------------\n"
     ]
    }
   ],
   "source": [
    "#4-9\n",
    "\n",
    "print(\"-\" * 50) \n",
    "print(\"%7s        %7s        %7s\" % (\"달러($)\", \"원화(원)\", \"유로(€)\"))\n",
    "print(\"-\" * 50) \n",
    "\n",
    "dollar = 10\n",
    "\n",
    "while dollar <= 100 : \n",
    "    won  = dollar * 1080\n",
    "    euro = dollar * 0.81\n",
    "\n",
    "    print(\"%7d \\t %8.0f \\t %7.1f\" % (dollar, won, euro))   \n",
    "\n",
    "    dollar = dollar + 10\n",
    "    \n",
    "print(\"-\" * 50)"
   ]
  },
  {
   "cell_type": "code",
   "execution_count": 70,
   "metadata": {},
   "outputs": [
    {
     "name": "stdout",
     "output_type": "stream",
     "text": [
      "------------------------------------------------------------\n",
      "     cm \t      mm \t       m \t    inch\n",
      "------------------------------------------------------------\n",
      "      1 \t      10 \t    0.01 \t     0.4\n",
      "      3 \t      30 \t    0.03 \t     1.2\n",
      "      5 \t      50 \t    0.05 \t     2.0\n",
      "      7 \t      70 \t    0.07 \t     2.8\n",
      "      9 \t      90 \t    0.09 \t     3.5\n",
      "     11 \t     110 \t    0.11 \t     4.3\n",
      "     13 \t     130 \t    0.13 \t     5.1\n",
      "     15 \t     150 \t    0.15 \t     5.9\n",
      "     17 \t     170 \t    0.17 \t     6.7\n",
      "     19 \t     190 \t    0.19 \t     7.5\n",
      "     21 \t     210 \t    0.21 \t     8.3\n",
      "     23 \t     230 \t    0.23 \t     9.1\n",
      "     25 \t     250 \t    0.25 \t     9.8\n",
      "     27 \t     270 \t    0.27 \t    10.6\n",
      "     29 \t     290 \t    0.29 \t    11.4\n",
      "     31 \t     310 \t    0.31 \t    12.2\n",
      "     33 \t     330 \t    0.33 \t    13.0\n",
      "     35 \t     350 \t    0.35 \t    13.8\n",
      "     37 \t     370 \t    0.37 \t    14.6\n",
      "     39 \t     390 \t    0.39 \t    15.4\n",
      "     41 \t     410 \t    0.41 \t    16.1\n",
      "     43 \t     430 \t    0.43 \t    16.9\n",
      "     45 \t     450 \t    0.45 \t    17.7\n",
      "     47 \t     470 \t    0.47 \t    18.5\n",
      "     49 \t     490 \t    0.49 \t    19.3\n",
      "     51 \t     510 \t    0.51 \t    20.1\n",
      "     53 \t     530 \t    0.53 \t    20.9\n",
      "     55 \t     550 \t    0.55 \t    21.7\n",
      "     57 \t     570 \t    0.57 \t    22.4\n",
      "     59 \t     590 \t    0.59 \t    23.2\n",
      "     61 \t     610 \t    0.61 \t    24.0\n",
      "     63 \t     630 \t    0.63 \t    24.8\n",
      "     65 \t     650 \t    0.65 \t    25.6\n",
      "     67 \t     670 \t    0.67 \t    26.4\n",
      "     69 \t     690 \t    0.69 \t    27.2\n",
      "     71 \t     710 \t    0.71 \t    28.0\n",
      "     73 \t     730 \t    0.73 \t    28.7\n",
      "     75 \t     750 \t    0.75 \t    29.5\n",
      "     77 \t     770 \t    0.77 \t    30.3\n",
      "     79 \t     790 \t    0.79 \t    31.1\n",
      "     81 \t     810 \t    0.81 \t    31.9\n",
      "     83 \t     830 \t    0.83 \t    32.7\n",
      "     85 \t     850 \t    0.85 \t    33.5\n",
      "     87 \t     870 \t    0.87 \t    34.3\n",
      "     89 \t     890 \t    0.89 \t    35.0\n",
      "     91 \t     910 \t    0.91 \t    35.8\n",
      "     93 \t     930 \t    0.93 \t    36.6\n",
      "     95 \t     950 \t    0.95 \t    37.4\n",
      "     97 \t     970 \t    0.97 \t    38.2\n",
      "     99 \t     990 \t    0.99 \t    39.0\n",
      "------------------------------------------------------------\n"
     ]
    }
   ],
   "source": [
    "#4-10\n",
    "print(\"-\" * 60) \n",
    "print(\"%7s \\t %7s \\t %7s \\t %7s\" % (\"cm\", \"mm\", \"m\", \"inch\"))\n",
    "print(\"-\" * 60) \n",
    "\n",
    "cm = 1\n",
    "while cm < 101 :\n",
    "    mm = cm * 10.0\n",
    "    m  = cm * 0.01\n",
    "    inch = cm * 0.3937\n",
    "    print(\"%7d \\t %7.0f \\t %7.2f \\t %7.1f\" % (cm, mm, m, inch))   \n",
    "\n",
    "    cm = cm + 2\n",
    "    \n",
    "print(\"-\" * 60)"
   ]
  }
 ],
 "metadata": {
  "kernelspec": {
   "display_name": "Python 3",
   "language": "python",
   "name": "python3"
  },
  "language_info": {
   "codemirror_mode": {
    "name": "ipython",
    "version": 3
   },
   "file_extension": ".py",
   "mimetype": "text/x-python",
   "name": "python",
   "nbconvert_exporter": "python",
   "pygments_lexer": "ipython3",
   "version": "3.7.6"
  }
 },
 "nbformat": 4,
 "nbformat_minor": 4
}
