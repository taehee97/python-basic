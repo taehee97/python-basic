{
 "cells": [
  {
   "cell_type": "code",
   "execution_count": null,
   "metadata": {},
   "outputs": [],
   "source": [
    "#p.135\n",
    "\n",
    "섭씨 = (화씨-32)*5/9\n",
    "화씨 = (섭씨+32)/(5/9)\n",
    "단위=i\n",
    "온도=k\n",
    "\n",
    "print(input('단위를 입력하세요(1:섭씨,2:화씨): '))\n",
    "print(input('온도를 입력하세요: '))\n",
    "print(input('물의 섭씨 온도: %.2f , 상태: %d ' % (섭씨, 상태)))\n",
    "\n",
    "if i ==1:\n",
    "    print(화씨)"
   ]
  },
  {
   "cell_type": "code",
   "execution_count": 10,
   "metadata": {
    "scrolled": true
   },
   "outputs": [
    {
     "name": "stdout",
     "output_type": "stream",
     "text": [
      "      *\n",
      "     **\n",
      "    ***\n",
      "   ****\n",
      "  *****\n",
      " ******\n",
      "*******\n"
     ]
    }
   ],
   "source": [
    "for i in range(1,8):\n",
    "    for j in range(1,7-i+1):\n",
    "        print(' ',end='')\n",
    "    for k in range(1, i+1):\n",
    "        print('*',end='')\n",
    "    print()"
   ]
  },
  {
   "cell_type": "code",
   "execution_count": 20,
   "metadata": {},
   "outputs": [
    {
     "name": "stdout",
     "output_type": "stream",
     "text": [
      "please input size4\n",
      "   *   \n",
      "  ***  \n",
      " ***** \n",
      "*******\n",
      " ***** \n",
      "  ***  \n",
      "   *   \n"
     ]
    }
   ],
   "source": [
    " \n",
    "# 값 입력받기\n",
    "size = int(input(\"please input size\")) \n",
    "# size = 9\n",
    "\n",
    "#다이아몬드 상체\n",
    "for x in range(1, size * 2, 2): \n",
    "    print((\" \" * ( (size * 2 - 1 - x) // 2 )) + (\"*\" * x) + (\" \" * ( (size * 2 - 1 - x) // 2 ))) \n",
    "\n",
    "#다이아몬드 하체\n",
    "for y in range(size * 2-3, 0, -2): \n",
    "    print((\" \" * ( (size * 2 - 1 - y) // 2 )) + \"*\" * y + (\" \" * ( (size * 2 - 1 - y) // 2 )))"
   ]
  },
  {
   "cell_type": "code",
   "execution_count": null,
   "metadata": {},
   "outputs": [],
   "source": []
  },
  {
   "cell_type": "code",
   "execution_count": null,
   "metadata": {},
   "outputs": [],
   "source": []
  },
  {
   "cell_type": "code",
   "execution_count": null,
   "metadata": {},
   "outputs": [],
   "source": [
    "파이썬 끝?????\n",
    "\n",
    "Numpy-Numerical Python\n",
    "Matplot lib - 그래프 그려주는 것\n",
    "Pandas \n",
    "\n",
    "Web Crawling - web에서 데이타 수집\n",
    "다음주 수요일 파이썬에 대한 평가시험 있음\n",
    "\n",
    "\n"
   ]
  },
  {
   "cell_type": "code",
   "execution_count": null,
   "metadata": {},
   "outputs": [],
   "source": []
  },
  {
   "cell_type": "code",
   "execution_count": null,
   "metadata": {},
   "outputs": [],
   "source": []
  }
 ],
 "metadata": {
  "kernelspec": {
   "display_name": "Python 3",
   "language": "python",
   "name": "python3"
  },
  "language_info": {
   "codemirror_mode": {
    "name": "ipython",
    "version": 3
   },
   "file_extension": ".py",
   "mimetype": "text/x-python",
   "name": "python",
   "nbconvert_exporter": "python",
   "pygments_lexer": "ipython3",
   "version": "3.7.6"
  }
 },
 "nbformat": 4,
 "nbformat_minor": 4
}
