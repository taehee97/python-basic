{
 "cells": [
  {
   "cell_type": "markdown",
   "metadata": {},
   "source": [
    "# 5장 연습문제"
   ]
  },
  {
   "cell_type": "code",
   "execution_count": 6,
   "metadata": {},
   "outputs": [
    {
     "name": "stdout",
     "output_type": "stream",
     "text": [
      "가장 큰 수: 10\n"
     ]
    }
   ],
   "source": [
    "#5-1\n",
    "data=[-12,3,-9,5,8,-2,0,-8,3,10]\n",
    "max=0\n",
    "for i in range(len(data)):\n",
    "    if data[i]>max:\n",
    "        max= data[i]\n",
    "        \n",
    "print('가장 큰 수:', max)"
   ]
  },
  {
   "cell_type": "code",
   "execution_count": 15,
   "metadata": {},
   "outputs": [
    {
     "name": "stdout",
     "output_type": "stream",
     "text": [
      "합계:8 평균 :1.60\n"
     ]
    }
   ],
   "source": [
    "#5-2\n",
    "data=[-12,3,-9,5,8,-2,0,-8,3,10]\n",
    "i=0\n",
    "sum=0\n",
    "cnt=0\n",
    "while i<len(data):\n",
    "    if(i%2!=0):\n",
    "        sum +=data[i]\n",
    "        cnt += 1\n",
    "    i+=1\n",
    "avg =sum/cnt\n",
    "print('합계:%d 평균 :%.2f'%(sum,avg))\n",
    "    "
   ]
  },
  {
   "cell_type": "code",
   "execution_count": 8,
   "metadata": {},
   "outputs": [
    {
     "name": "stdout",
     "output_type": "stream",
     "text": [
      "[10, 8, 5, 3, 3, 0, -2, -8, -9, -12]\n"
     ]
    }
   ],
   "source": [
    "#5-3\n",
    "\n",
    "data.sort(reverse=True)\n",
    "print(data)"
   ]
  },
  {
   "cell_type": "code",
   "execution_count": 11,
   "metadata": {},
   "outputs": [
    {
     "name": "stdout",
     "output_type": "stream",
     "text": [
      "[-12, 3, -9, 5, 100, 8, -2, 0, -8, 3, 10]\n"
     ]
    }
   ],
   "source": [
    "#5-4\n",
    "data=[-12,3,-9,5,8,-2,0,-8,3,10]\n",
    "data.insert(4,100)\n",
    "print(data)"
   ]
  },
  {
   "cell_type": "code",
   "execution_count": 12,
   "metadata": {},
   "outputs": [
    {
     "name": "stdout",
     "output_type": "stream",
     "text": [
      "[3, -9, 5, 8, -2, 0, -8, 3, 10]\n"
     ]
    }
   ],
   "source": [
    "#5-5\n",
    "data=[-12,3,-9,5,8,-2,0,-8,3,10]\n",
    "data.remove(-12)\n",
    "print(data)"
   ]
  },
  {
   "cell_type": "code",
   "execution_count": 29,
   "metadata": {},
   "outputs": [],
   "source": [
    "#5-6\n"
   ]
  },
  {
   "cell_type": "code",
   "execution_count": null,
   "metadata": {},
   "outputs": [],
   "source": [
    "#5-7"
   ]
  },
  {
   "cell_type": "code",
   "execution_count": null,
   "metadata": {},
   "outputs": [],
   "source": [
    "#5-8"
   ]
  },
  {
   "cell_type": "code",
   "execution_count": null,
   "metadata": {},
   "outputs": [],
   "source": [
    "#5-9"
   ]
  }
 ],
 "metadata": {
  "kernelspec": {
   "display_name": "Python 3",
   "language": "python",
   "name": "python3"
  },
  "language_info": {
   "codemirror_mode": {
    "name": "ipython",
    "version": 3
   },
   "file_extension": ".py",
   "mimetype": "text/x-python",
   "name": "python",
   "nbconvert_exporter": "python",
   "pygments_lexer": "ipython3",
   "version": "3.7.6"
  }
 },
 "nbformat": 4,
 "nbformat_minor": 4
}
